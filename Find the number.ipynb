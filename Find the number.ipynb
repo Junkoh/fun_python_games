{
 "cells": [
  {
   "cell_type": "code",
   "execution_count": null,
   "metadata": {},
   "outputs": [],
   "source": [
    "import random\n",
    "num = random.randint(1, 100)\n",
    "print(\"You have 5 tries to find a number between 1 and 100, good luck !\")\n",
    "\n",
    "n = 0\n",
    "for n in range(5):\n",
    "    user = input()\n",
    "    n += 1\n",
    "    if num == int(user):\n",
    "        print(\"Congrats, you've find the number in \" + str(n) + \" tries !\")\n",
    "\n",
    "    elif num < int(user):\n",
    "        print(\"The number to find is lower !\")\n",
    "    else:\n",
    "        print(\"The number to find is higher !\")\n",
    "print(\"The number to find was  \" + str(num))"
   ]
  },
  {
   "cell_type": "code",
   "execution_count": null,
   "metadata": {},
   "outputs": [],
   "source": []
  }
 ],
 "metadata": {
  "kernelspec": {
   "display_name": "Python 3",
   "language": "python",
   "name": "python3"
  },
  "language_info": {
   "codemirror_mode": {
    "name": "ipython",
    "version": 3
   },
   "file_extension": ".py",
   "mimetype": "text/x-python",
   "name": "python",
   "nbconvert_exporter": "python",
   "pygments_lexer": "ipython3",
   "version": "3.7.3"
  }
 },
 "nbformat": 4,
 "nbformat_minor": 2
}
